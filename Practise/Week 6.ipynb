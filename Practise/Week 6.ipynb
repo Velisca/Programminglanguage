{
 "cells": [
  {
   "cell_type": "code",
   "execution_count": 29,
   "id": "c4965d2a",
   "metadata": {},
   "outputs": [],
   "source": [
    "import re\n",
    "import requests\n",
    "from bs4 import BeautifulSoup"
   ]
  },
  {
   "cell_type": "markdown",
   "id": "0bff7cb4",
   "metadata": {},
   "source": [
    "From the song, \"Fireflies\" by NCT Dream, I'm going to filter out the lines containing the word 'fireflies'.  \n",
    "However, I'm not going to extract it from a url as most urls that I've found has an anti web-scraping feature that prevents me from using it. Hence, I'm pasting the lyrics manually into a txt file."
   ]
  },
  {
   "cell_type": "code",
   "execution_count": 31,
   "id": "5d1d83fa",
   "metadata": {},
   "outputs": [
    {
     "name": "stdout",
     "output_type": "stream",
     "text": [
      "Fireflies - NCT Dream\n",
      "Tell me 'bout your dreaming\n",
      "I believe I was there, too\n",
      "I could sense your breathing\n",
      "Lying in a different room\n",
      "'Cause laws of the universe\n",
      "Always there to observe\n",
      "You shimmer\n",
      "Your inner compass is taking you there (You there)\n",
      "I'll be your beacon\n",
      "Illuminate while you on your way\n",
      "Girl I've been there, too (Been there, too)\n",
      "Don't be afraid tonight, afraid tonight (Oh yeah)\n",
      "Just know you're never be lonely\n",
      "I know it's hard sometimes, to see the light (See the light)\n",
      "But you and I keep on dreaming (Come on!)\n",
      "We gon' light it up\n",
      "Light it up now, darling\n",
      "We can make the stars align\n",
      "We gon' light it up\n",
      "Light it up, now we sparkling\n",
      "Brighter than the fireflies (Fireflies)\n",
      "Think it then believe it\n",
      "And truth'll find its way\n",
      "I know that you'll see it (Yeah, you'll see it)\n",
      "If you come with me (Alright, alright hey!)\n",
      "Show you what it's all about\n",
      "Now we're gonna go all out\n",
      "Don't gotta sing the blues (Oh yeah, yeah, yeah)\n",
      "If you ever need me, shout\n",
      "I'll always be around\n",
      "Girl I've been there, too\n",
      "Don't be afraid tonight, afraid tonight\n",
      "Just know you'll never be lonely (Never be lonely)\n",
      "I know it's hard sometimes, to see the light\n",
      "But you and I keep on dreaming\n",
      "We gon' light it up\n",
      "Light it up now, darling\n",
      "We can make the stars align\n",
      "We gon' light it up\n",
      "Light it up, now we sparkling\n",
      "Brighter than the fireflies\n",
      "We gonna light it up\n",
      "(Oh, oh, oh) Look how we shining now\n",
      "(Oh, oh, oh) You know it's only love\n",
      "Brighter than the fireflies\n",
      "Light it up, light it up\n",
      "Like it's the first day of our lives\n",
      "Fireflies, fireflies (Fireflies)\n",
      "They see us dancing in the sky\n",
      "We gon', we gon'\n",
      "We gon' light it up\n",
      "Light it up now, darling\n",
      "We can make the stars align\n",
      "We gon' light it up\n",
      "Light it up now we sparkling\n",
      "Brighter than the fireflies\n",
      "(Keep shining)\n",
      "We gonna light it up\n",
      "(Oh, oh, oh) Look how we shining now\n",
      "(Oh, oh, oh) You know it's only love\n",
      "Brighter than the fireflies\n",
      "Fireflies \n",
      "\n"
     ]
    }
   ],
   "source": [
    "file_path = 'Fireflies lyrics.txt'\n",
    "with open(file_path, 'r') as file:\n",
    "    file_content = file.read()\n",
    "\n",
    "print(file_content)"
   ]
  },
  {
   "cell_type": "code",
   "execution_count": 33,
   "id": "03dcfc68",
   "metadata": {},
   "outputs": [
    {
     "name": "stdout",
     "output_type": "stream",
     "text": [
      "Brighter than the fireflies (Fireflies)\n",
      "Brighter than the fireflies\n",
      "Brighter than the fireflies\n",
      "Fireflies, fireflies (Fireflies)\n",
      "Brighter than the fireflies\n",
      "Brighter than the fireflies\n"
     ]
    }
   ],
   "source": [
    "# Define the word\n",
    "word_to_search = \"fireflies\"\n",
    "\n",
    "# Split the text into lines\n",
    "lines = file_content.split('\\n')\n",
    "\n",
    "# Find and print the lines containing the exact word \"fireflies\"\n",
    "for line in lines:\n",
    "    if word_to_search in line:\n",
    "        print(line.strip())"
   ]
  }
 ],
 "metadata": {
  "kernelspec": {
   "display_name": "Python 3 (ipykernel)",
   "language": "python",
   "name": "python3"
  },
  "language_info": {
   "codemirror_mode": {
    "name": "ipython",
    "version": 3
   },
   "file_extension": ".py",
   "mimetype": "text/x-python",
   "name": "python",
   "nbconvert_exporter": "python",
   "pygments_lexer": "ipython3",
   "version": "3.11.4"
  }
 },
 "nbformat": 4,
 "nbformat_minor": 5
}
