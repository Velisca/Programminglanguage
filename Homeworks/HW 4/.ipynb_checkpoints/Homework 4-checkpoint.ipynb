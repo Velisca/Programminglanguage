{
 "cells": [
  {
   "cell_type": "markdown",
   "id": "5ff955cf",
   "metadata": {},
   "source": [
    "The data of a dataset about \"students enrolled in various undergraduate degrees offered at a higher education institution that includes demographic data, social-economic factors and academic performance information that can be used to analyze the possible predictors of student dropout and academic success.\" \n",
    "\n",
    "This data can also be used to estimate overall student performance at the end of each semester by assessing curricular units credited/enrolled/evaluated/approved as well as their respective grades."
   ]
  },
  {
   "cell_type": "code",
   "execution_count": 3,
   "id": "5c85d7df",
   "metadata": {},
   "outputs": [
    {
     "name": "stdout",
     "output_type": "stream",
     "text": [
      "Index(['Marital status', 'Application mode', 'Application order', 'Course',\n",
      "       'Daytime/evening attendance', 'Previous qualification', 'Nacionality',\n",
      "       'Mother's qualification', 'Father's qualification',\n",
      "       'Mother's occupation', 'Father's occupation', 'Displaced',\n",
      "       'Educational special needs', 'Debtor', 'Tuition fees up to date',\n",
      "       'Gender', 'Scholarship holder', 'Age at enrollment', 'International',\n",
      "       'Curricular units 1st sem (credited)',\n",
      "       'Curricular units 1st sem (enrolled)',\n",
      "       'Curricular units 1st sem (evaluations)',\n",
      "       'Curricular units 1st sem (approved)',\n",
      "       'Curricular units 1st sem (grade)',\n",
      "       'Curricular units 1st sem (without evaluations)',\n",
      "       'Curricular units 2nd sem (credited)',\n",
      "       'Curricular units 2nd sem (enrolled)',\n",
      "       'Curricular units 2nd sem (evaluations)',\n",
      "       'Curricular units 2nd sem (approved)',\n",
      "       'Curricular units 2nd sem (grade)',\n",
      "       'Curricular units 2nd sem (without evaluations)', 'Unemployment rate',\n",
      "       'Inflation rate', 'GDP', 'Target'],\n",
      "      dtype='object')\n"
     ]
    }
   ],
   "source": [
    "import pandas as pd\n",
    "data = pd.read_csv('dataset.csv')\n",
    "print(data.columns)"
   ]
  },
  {
   "cell_type": "markdown",
   "id": "235ebc62",
   "metadata": {},
   "source": [
    "I'm going to choose several columns, such as:\n",
    "- Scholarship holder = 1 – yes 0 – no\n",
    "- Curricular units 1st sem (enrolled) = Number of curricular units enrolled in the 1st semester\n",
    "- Curricular units 1st sem (approved) = Number of curricular units approved in the 1st semester\n",
    "- Curricular units 1st sem (grade) = Grade average in the 1st semester (between 0 and 20)\n",
    "- Curricular units 2nd sem (enrolled) = Number of curricular units enrolled in the 2nd semester\n",
    "- Curricular units 2nd sem (approved) = Number of curricular units approved in the 2nd semester\n",
    "- Curricular units 2nd sem (grade) = Grade average in the 2nd semester (between 0 and 20)\n",
    "- Unemployment rate = Unemployment rate (%)\n",
    "- GDP = GDP\n",
    "- Target = Target. The problem is formulated as a three category classification task (dropout, enrolled, and graduate) at the end "
   ]
  },
  {
   "cell_type": "code",
   "execution_count": null,
   "id": "7e6c9d7f",
   "metadata": {},
   "outputs": [],
   "source": [
    "file = 'dataset.csv'\n",
    "chosen_columns = ['Curricular units 2nd sem (credited)', 'Curricular units 2nd sem (enrolled)', 'Curricular units 2nd sem (evaluations)', 'Curricular units 2nd sem (approved)', 'avg_training_score', 'promotion_rate']\n",
    "df = pd.read_csv(file, usecols=chosen_columns1)"
   ]
  }
 ],
 "metadata": {
  "kernelspec": {
   "display_name": "Python 3 (ipykernel)",
   "language": "python",
   "name": "python3"
  },
  "language_info": {
   "codemirror_mode": {
    "name": "ipython",
    "version": 3
   },
   "file_extension": ".py",
   "mimetype": "text/x-python",
   "name": "python",
   "nbconvert_exporter": "python",
   "pygments_lexer": "ipython3",
   "version": "3.11.4"
  }
 },
 "nbformat": 4,
 "nbformat_minor": 5
}
