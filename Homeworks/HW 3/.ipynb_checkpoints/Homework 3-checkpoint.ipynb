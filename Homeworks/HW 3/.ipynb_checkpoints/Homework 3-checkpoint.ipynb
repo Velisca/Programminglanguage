{
 "cells": [
  {
   "cell_type": "markdown",
   "id": "4f9db00f",
   "metadata": {},
   "source": [
    "Importing the required modules"
   ]
  },
  {
   "cell_type": "code",
   "execution_count": 8,
   "id": "211f7602",
   "metadata": {},
   "outputs": [],
   "source": [
    "import requests\n",
    "from bs4 import BeautifulSoup\n",
    "import csv\n",
    "import json"
   ]
  },
  {
   "cell_type": "markdown",
   "id": "a2c281b2",
   "metadata": {},
   "source": [
    "I'm going to write a web crawler to extract information of NCT Dream's discography"
   ]
  },
  {
   "cell_type": "markdown",
   "id": "d27b14de",
   "metadata": {},
   "source": [
    "Defining the url we want"
   ]
  },
  {
   "cell_type": "code",
   "execution_count": 9,
   "id": "d0bea730",
   "metadata": {},
   "outputs": [],
   "source": [
    "url = 'https://kprofiles.com/nct-dream-discography/'"
   ]
  },
  {
   "cell_type": "markdown",
   "id": "41d10db6",
   "metadata": {},
   "source": [
    "Printing out the contents in the web page"
   ]
  },
  {
   "cell_type": "code",
   "execution_count": 48,
   "id": "511f0732",
   "metadata": {},
   "outputs": [],
   "source": [
    "response = requests.get(url)\n",
    "\n",
    "if response.status_code == 200:\n",
    "    soup = BeautifulSoup(response.text, 'html.parser')\n",
    "    \n",
    "    data_to_collect = []"
   ]
  },
  {
   "cell_type": "markdown",
   "id": "11cb5bb1",
   "metadata": {},
   "source": [
    "I'm going to extract the content under the \"NCT DREAM Discography\" section"
   ]
  },
  {
   "cell_type": "code",
   "execution_count": 50,
   "id": "18ac39c8",
   "metadata": {},
   "outputs": [
    {
     "name": "stdout",
     "output_type": "stream",
     "text": [
      "[\"NCT DREAM Discography\\n\\nThe bolded tracks are the title tracks of said album.\\n\\n\\nChewing Gum\\n1st Pre-Release Single\\n\\nRelease Date: August 27, 2016Chewing GumChewing Gum (Chinese Ver.)The First\\n1st Mini Album\\n\\nRelease Date: February 9, 2017My First and LastMy First and Last (Chinese Ver.)Dunk ShotChewing GumChewing Gum (Chinese Ver.)We Young\\n2nd Mini Album\\n\\nRelease Date: August 17, 2017We YoungLa La LoveWalk You HomeMy PageWe Young (Chinese Ver.)Trigger the FeverJoy\\n1st Single\\n\\nRelease date: December 15, 2017\\nJoyJoy (Instrumental)NCT 2018 Empathy\\n1st Studio Album\\n\\nRelease Date: March 14, 2018Intro: Neo Got My BackBoss (NCT U)Baby Don’t Stop (NCT U)Go (NCT DREAM)Touch (NCT 127)Yestoday (NCT U)Black On BlackTimeless (NCT U)The 7th Sense (NCT U)Without You (NCT U)Without You (Chinese Ver.) (NCT U)Dream in a DreamOutro: VisionWe Go Up\\n3rd Mini Album\\n\\nRelease Date: September 3, 2018We Go Up1, 2, 3Beautiful TimeDrippinDear DREAMWe Go Up (Chinese Ver.)Candle Light\\n2nd Single\\n\\nRelease Date: December 27, 2018Candle LightCandle Light (Instrumental)Don’t Need Your Love\\n3rd Single\\n\\nRelease Date: June 6, 2019Don’t Need Your LoveDon’t Need Your Love (Instrumental)Fireflies\\n1st English Single\\n\\nRelease Date: July 15, 2019FirefliesWe Boom\\n4th Mini Album\\n\\nRelease Date: July 26, 2019BoomStronger119Bye My First..Best FriendDream RunRELOAD\\n5th Mini Album\\n\\nRelease Date: April 29, 2020Ridin’Quiet Down7 DaysLove AgainPuzzle PieceNCT Resonance Pt. 1\\n2nd Studio Album\\n\\nRelease Date: October 12, 2020Make A Wish (NCT U)Misfit (NCT U)Volcano (NCT U)Light Bulb (NCT U)Dancing In The Rain (NCT U)Interlude: Past to PresentDeja Vu (NCT DREAM)Nectar (WayV)Music. Dance (NCT 127)Faded In My Last Song (NCT U)From Home (NCT U)From Home (Korean Ver.) (NCT U)Make A Wish (English Ver.) (NCT U)Hot Sauce\\n1st Full Length Album\\n\\nRelease Date: May 10, 2021Hot SauceDiggityDive Into You (고래)My Youth (우리의 계정)RocketCountdown (3, 2, 1)ANLIrreplaceableBe There For You (지금처럼) (Renjun, Haechan, Chenle)Rainbow (책갈피)Hello Future\\n1st Repackage Album\\n\\nRelease Date: June 28, 2021Hello FutureBungeeHot SauceDiggityLife Is Still Going On (오르골)Dive Into You (고래)My Youth (우리의 계정)RocketCountdown (3, 2, 1)ANLIrreplaceableBe There For You (지금처럼) (Renjun, Haechan, Chenle)Rainbow (책갈피)Glitch Mode\\n2nd Full Length Album\\n\\nRelease Date: March 28, 2022Fire AlarmGlitch ModeArcadeIt’s YoursTeddy BearReplaySaturday DripBetter Than GoldDriveNever GoodbyeRewindBeatbox\\n1st Full Album Repackage\\n\\nRelease Date: May 30, 2022BeatboxFire AlarmGlitch ModeArcadeTo My FirstIt’s YoursTeddy BearSorry, HeartReplaySaturday DripBetter Than GoldDriveNever GoodbyeRewindOn the WayCandy\\n1st Winter Special Album\\n\\nRelease Date: December 16, 2022Candy\\xa0GraduationTangerine Love (Favorite)Take My BreathMoonWalk With YouBest Friends Ever\\n1st Japanese Single\\n\\nRelease Date: February 8, 2023Best Friend EverGlitch Mode (Japanese ver.)Beatbox English Ver\\n1st English Digital Single\\n\\nRelease Date: March 21, 2023Beatbox English VerBroken Melodies\\n1st Pre-Release Digital Single\\n\\nRelease Date: June 19, 2023Broken MelodiesISTJ\\n3rd Album\\n\\nRelease Date: July 17, 2023ISTJBroken MelodiesYogurt ShakeSkateboardBlue WavePoisonSOSPretzel (♡)Starry NightLike We Just Met.・゜-: ✧ :-───── ❝ Credits ❞ ─────-: ✧ :-゜・．\\nsorrysweetie\\nWhich NCT Dream release is your favorite?\\n\\n Chewing Gum\\n\\n\\n The First\\n\\n\\n We Young\\n\\n\\n Joy\\n\\n\\n NCT 2018 Empathy\\n\\n\\n We Go Up\\n\\n\\n Candle Light\\n\\n\\n Don't Need Your Love\\n\\n\\n Fireflies\\n\\n\\n We Boom\\n\\n\\n Reload\\n\\n\\n NCT Resonance Pt. 1\\n\\n\\n Hot Sauce\\n\\n\\n Hello Future\\n\\n\\n Glitch Mode\\n\\n\\n Beatbox\\n\\n\\n Candy\\n\\n\\n Best Friends Ever\\n\\n\\n Beatbox English Ver\\nResultsPoll Options are limited because JavaScript is disabled in your browser.We Boom 27%, 5437 votes 5437 votes 27%5437 votes - 27% of all votesWe Go Up 14%, 2794 votes 2794 votes 14%2794 votes - 14% of all votesHello Future 11%, 2252 votes 2252 votes 11%2252 votes - 11% of all votesReload 10%, 2027 votes 2027 votes 10%2027 votes - 10% of all votesHot Sauce 6%, 1128 votes 1128 votes 6%1128 votes - 6% of all votesDon't Need Your Love 4%, 810 votes 810 votes 4%810 votes - 4% of all votesChewing Gum 4%, 804 votes 804 votes 4%804 votes - 4% of all votesThe First 4%, 779 votes 779 votes 4%779 votes - 4% of all votesWe Young 4%, 762 votes 762 votes 4%762 votes - 4% of all votesFireflies 3%, 634 votes 634 votes 3%634 votes - 3% of all votesCandy 3%, 567 votes 567 votes 3%567 votes - 3% of all votesBeatbox 3%, 525 votes 525 votes 3%525 votes - 3% of all votesGlitch Mode 2%, 411 votes 411 votes 2%411 votes - 2% of all votesCandle Light 2%, 405 votes 405 votes 2%405 votes - 2% of all votesNCT 2018 Empathy 2%, 388 votes 388 votes 2%388 votes - 2% of all votesNCT Resonance Pt. 1 1%, 199 votes 199 votes 1%199 votes - 1% of all votesBest Friends Ever 1%, 132 votes 132 votes 1%132 votes - 1% of all votesJoy 1%, 104 votes 104 votes 1%104 votes - 1% of all votesBeatbox English Ver 0%, 58 votes 58 votes58 votes - 0% of all votesTotal Votes: 20216Voters: 17114 March 21, 2020× You or your IP had already vote.        Chewing Gum    The First    We Young    Joy    NCT 2018 Empathy    We Go Up    Candle Light    Don't Need Your Love    Fireflies    We Boom    Reload    NCT Resonance Pt. 1    Hot Sauce    Hello Future    Glitch Mode    Beatbox    Candy    Best Friends Ever    Beatbox English Ver × You or your IP had already vote.     ResultsRelated: NCT DREAM Profile\\nNCT U Discography\\nNCT 127 DiscographyWhat’s your favorite\\xa0NCT DREAM release? Feel free to comment below.\\nTags#Discography NCT Dream NCT DREAM Discography\"]\n"
     ]
    }
   ],
   "source": [
    "discography_section = soup.find(\"div\", class_=\"entry-content herald-entry-content\")\n",
    "if discography_section:\n",
    "    data_to_collect.append(discography_section.text)\n",
    "\n",
    "print(data_to_collect)"
   ]
  },
  {
   "cell_type": "markdown",
   "id": "d4af335a",
   "metadata": {},
   "source": [
    "Filtering out to the song titles only"
   ]
  },
  {
   "cell_type": "code",
   "execution_count": 25,
   "id": "14612647",
   "metadata": {},
   "outputs": [
    {
     "name": "stdout",
     "output_type": "stream",
     "text": [
      "[<ol><li><strong>Chewing Gum</strong></li><li>Chewing Gum (Chinese Ver.)</li></ol>, <ol><li><strong>My First and Last</strong></li><li><strong>My First and Last (Chinese Ver.)</strong></li><li>Dunk Shot</li><li><strong>Chewing Gum</strong></li><li>Chewing Gum (Chinese Ver.)</li></ol>, <ol><li>We Young</li><li>La La Love</li><li>Walk You Home</li><li>My Page</li><li><strong>We Young (Chinese Ver.)</strong></li><li>Trigger the Fever</li></ol>, <ol><li><strong>Joy</strong></li><li>Joy (Instrumental)</li></ol>, <ol><li>Intro: Neo Got My Back</li><li><strong>Boss (NCT U)</strong></li><li><strong>Baby Don’t Stop (NCT U)</strong></li><li><strong>Go (NCT DREAM)</strong></li><li><strong>Touch (NCT 127)</strong></li><li><strong>Yestoday (NCT U)</strong></li><li><strong>Black On Black</strong></li><li>Timeless (NCT U)</li><li><strong>The 7th Sense (NCT U)</strong></li><li>Without You (NCT U)</li><li>Without You (Chinese Ver.) (NCT U)</li><li>Dream in a Dream</li><li>Outro: Vision</li></ol>, <ol><li><strong>We Go Up</strong></li><li>1, 2, 3</li><li><strong>Beautiful Time</strong></li><li>Drippin</li><li>Dear DREAM</li><li>We Go Up (Chinese Ver.)</li></ol>, <ol><li><strong>Candle Light</strong></li><li>Candle Light (Instrumental)</li></ol>, <ol><li><strong>Don’t Need Your Love</strong></li><li>Don’t Need Your Love (Instrumental)</li></ol>, <ol><li><strong>Fireflies</strong></li></ol>, <ol><li><strong>Boom</strong></li><li>Stronger</li><li>119</li><li>Bye My First..</li><li>Best Friend</li><li>Dream Run</li></ol>, <ol><li><strong>Ridin’</strong></li><li>Quiet Down</li><li>7 Days</li><li>Love Again</li><li>Puzzle Piece</li></ol>, <ol><li><strong>Make A Wish (NCT U)</strong></li><li>Misfit (NCT U)</li><li>Volcano (NCT U)</li><li>Light Bulb (NCT U)</li><li>Dancing In The Rain (NCT U)</li><li>Interlude: Past to Present</li><li><strong>Deja Vu (NCT DREAM)</strong></li><li>Nectar (WayV)</li><li>Music. Dance (NCT 127)</li><li>Faded In My Last Song (NCT U)</li><li>From Home (NCT U)</li><li>From Home (Korean Ver.) (NCT U)</li><li>Make A Wish (English Ver.) (NCT U)</li></ol>, <ol><li><strong>Hot Sauce</strong></li><li>Diggity</li><li>Dive Into You (고래)</li><li>My Youth (우리의 계정)</li><li>Rocket</li><li>Countdown (3, 2, 1)</li><li>ANL</li><li>Irreplaceable</li><li>Be There For You (지금처럼) (Renjun, Haechan, Chenle)</li><li>Rainbow (책갈피)</li></ol>, <ol><li><strong>Hello Future</strong></li><li>Bungee</li><li>Hot Sauce</li><li>Diggity</li><li>Life Is Still Going On (오르골)</li><li>Dive Into You (고래)</li><li>My Youth (우리의 계정)</li><li>Rocket</li><li>Countdown (3, 2, 1)</li><li>ANL</li><li>Irreplaceable</li><li>Be There For You (지금처럼) (Renjun, Haechan, Chenle)</li><li>Rainbow (책갈피)</li></ol>, <ol><li>Fire Alarm</li><li><strong>Glitch Mode</strong></li><li>Arcade</li><li>It’s Yours</li><li>Teddy Bear</li><li>Replay</li><li>Saturday Drip</li><li>Better Than Gold</li><li>Drive</li><li>Never Goodbye</li><li>Rewind</li></ol>, <ol><li><strong>Beatbox</strong></li><li>Fire Alarm</li><li>Glitch Mode</li><li>Arcade</li><li>To My First</li><li>It’s Yours</li><li>Teddy Bear</li><li>Sorry, Heart</li><li>Replay</li><li>Saturday Drip</li><li>Better Than Gold</li><li>Drive</li><li>Never Goodbye</li><li>Rewind</li><li>On the Way</li></ol>, <ol><li><strong>Candy </strong></li><li>Graduation</li><li>Tangerine Love (Favorite)</li><li>Take My Breath</li><li>Moon</li><li>Walk With You</li></ol>, <ol><li><strong>Best Friend Ever</strong></li><li>Glitch Mode (Japanese ver.)</li></ol>, <ol><li><strong>Beatbox English Ver</strong></li></ol>, <ol><li><strong>Broken Melodies</strong></li></ol>, <ol><li><strong>ISTJ</strong></li><li>Broken Melodies</li><li>Yogurt Shake</li><li>Skateboard</li><li>Blue Wave</li><li>Poison</li><li>SOS</li><li>Pretzel (♡)</li><li>Starry Night</li><li>Like We Just Met</li></ol>]\n"
     ]
    }
   ],
   "source": [
    "ordered_lists = soup.find_all('ol')\n",
    "\n",
    "for ordered_list in ordered_lists:\n",
    "    list_items = ordered_list.find_all('li')\n",
    "    for list_item in list_items:\n",
    "        data_to_collect.append(list_item.text)\n",
    "\n",
    "print(ordered_lists)"
   ]
  },
  {
   "cell_type": "markdown",
   "id": "76ee7a6c",
   "metadata": {},
   "source": [
    "Organizing the data"
   ]
  },
  {
   "cell_type": "code",
   "execution_count": 45,
   "id": "ea87b07c",
   "metadata": {},
   "outputs": [
    {
     "name": "stdout",
     "output_type": "stream",
     "text": [
      "1. Chewing Gum, Chewing Gum (Chinese Ver.)\n",
      "2. My First and Last, My First and Last (Chinese Ver.), Dunk Shot, Chewing Gum, Chewing Gum (Chinese Ver.)\n",
      "3. We Young, La La Love, Walk You Home, My Page, We Young (Chinese Ver.), Trigger the Fever\n",
      "4. Joy, Joy (Instrumental)\n",
      "5. Intro: Neo Got My Back, Boss (NCT U), Baby Don’t Stop (NCT U), Go (NCT DREAM), Touch (NCT 127), Yestoday (NCT U), Black On Black, Timeless (NCT U), The 7th Sense (NCT U), Without You (NCT U), Without You (Chinese Ver.) (NCT U), Dream in a Dream, Outro: Vision\n",
      "6. We Go Up, 1, 2, 3, Beautiful Time, Drippin, Dear DREAM, We Go Up (Chinese Ver.)\n",
      "7. Candle Light, Candle Light (Instrumental)\n",
      "8. Don’t Need Your Love, Don’t Need Your Love (Instrumental)\n",
      "9. Fireflies\n",
      "10. Boom, Stronger, 119, Bye My First.., Best Friend, Dream Run\n",
      "11. Ridin’, Quiet Down, 7 Days, Love Again, Puzzle Piece\n",
      "12. Make A Wish (NCT U), Misfit (NCT U), Volcano (NCT U), Light Bulb (NCT U), Dancing In The Rain (NCT U), Interlude: Past to Present, Deja Vu (NCT DREAM), Nectar (WayV), Music. Dance (NCT 127), Faded In My Last Song (NCT U), From Home (NCT U), From Home (Korean Ver.) (NCT U), Make A Wish (English Ver.) (NCT U)\n",
      "13. Hot Sauce, Diggity, Dive Into You (고래), My Youth (우리의 계정), Rocket, Countdown (3, 2, 1), ANL, Irreplaceable, Be There For You (지금처럼) (Renjun, Haechan, Chenle), Rainbow (책갈피)\n",
      "14. Hello Future, Bungee, Hot Sauce, Diggity, Life Is Still Going On (오르골), Dive Into You (고래), My Youth (우리의 계정), Rocket, Countdown (3, 2, 1), ANL, Irreplaceable, Be There For You (지금처럼) (Renjun, Haechan, Chenle), Rainbow (책갈피)\n",
      "15. Fire Alarm, Glitch Mode, Arcade, It’s Yours, Teddy Bear, Replay, Saturday Drip, Better Than Gold, Drive, Never Goodbye, Rewind\n",
      "16. Beatbox, Fire Alarm, Glitch Mode, Arcade, To My First, It’s Yours, Teddy Bear, Sorry, Heart, Replay, Saturday Drip, Better Than Gold, Drive, Never Goodbye, Rewind, On the Way\n",
      "17. Candy, Graduation, Tangerine Love (Favorite), Take My Breath, Moon, Walk With You\n",
      "18. Best Friend Ever, Glitch Mode (Japanese ver.)\n",
      "19. Beatbox English Ver\n",
      "20. Broken Melodies\n",
      "21. ISTJ, Broken Melodies, Yogurt Shake, Skateboard, Blue Wave, Poison, SOS, Pretzel (♡), Starry Night, Like We Just Met\n"
     ]
    }
   ],
   "source": [
    "cleaned_data = []\n",
    "\n",
    "for ol_element in ordered_lists:\n",
    "    item_data = []\n",
    "    for li_element in ol_element.find_all('li'):\n",
    "        text = li_element.get_text(strip=True)\n",
    "        if text:\n",
    "            item_data.append(text)\n",
    "    cleaned_data.append(item_data)\n",
    "\n",
    "for index, item in enumerate(cleaned_data, start=1):\n",
    "    print(f\"{index}. {', '.join(item)}\")"
   ]
  },
  {
   "cell_type": "markdown",
   "id": "ef632b91",
   "metadata": {},
   "source": [
    "Seperating each song into an ordered list. "
   ]
  },
  {
   "cell_type": "code",
   "execution_count": 46,
   "id": "6c888bb3",
   "metadata": {},
   "outputs": [
    {
     "name": "stdout",
     "output_type": "stream",
     "text": [
      "1. Chewing Gum\n",
      "2. Chewing Gum (Chinese Ver.)\n",
      "1. My First and Last\n",
      "2. My First and Last (Chinese Ver.)\n",
      "3. Dunk Shot\n",
      "4. Chewing Gum\n",
      "5. Chewing Gum (Chinese Ver.)\n",
      "1. We Young\n",
      "2. La La Love\n",
      "3. Walk You Home\n",
      "4. My Page\n",
      "5. We Young (Chinese Ver.)\n",
      "6. Trigger the Fever\n",
      "1. Joy\n",
      "2. Joy (Instrumental)\n",
      "1. Intro: Neo Got My Back\n",
      "2. Boss (NCT U)\n",
      "3. Baby Don’t Stop (NCT U)\n",
      "4. Go (NCT DREAM)\n",
      "5. Touch (NCT 127)\n",
      "6. Yestoday (NCT U)\n",
      "7. Black On Black\n",
      "8. Timeless (NCT U)\n",
      "9. The 7th Sense (NCT U)\n",
      "10. Without You (NCT U)\n",
      "11. Without You (Chinese Ver.) (NCT U)\n",
      "12. Dream in a Dream\n",
      "13. Outro: Vision\n",
      "1. We Go Up\n",
      "2. 1, 2, 3\n",
      "3. Beautiful Time\n",
      "4. Drippin\n",
      "5. Dear DREAM\n",
      "6. We Go Up (Chinese Ver.)\n",
      "1. Candle Light\n",
      "2. Candle Light (Instrumental)\n",
      "1. Don’t Need Your Love\n",
      "2. Don’t Need Your Love (Instrumental)\n",
      "1. Fireflies\n",
      "1. Boom\n",
      "2. Stronger\n",
      "3. 119\n",
      "4. Bye My First..\n",
      "5. Best Friend\n",
      "6. Dream Run\n",
      "1. Ridin’\n",
      "2. Quiet Down\n",
      "3. 7 Days\n",
      "4. Love Again\n",
      "5. Puzzle Piece\n",
      "1. Make A Wish (NCT U)\n",
      "2. Misfit (NCT U)\n",
      "3. Volcano (NCT U)\n",
      "4. Light Bulb (NCT U)\n",
      "5. Dancing In The Rain (NCT U)\n",
      "6. Interlude: Past to Present\n",
      "7. Deja Vu (NCT DREAM)\n",
      "8. Nectar (WayV)\n",
      "9. Music. Dance (NCT 127)\n",
      "10. Faded In My Last Song (NCT U)\n",
      "11. From Home (NCT U)\n",
      "12. From Home (Korean Ver.) (NCT U)\n",
      "13. Make A Wish (English Ver.) (NCT U)\n",
      "1. Hot Sauce\n",
      "2. Diggity\n",
      "3. Dive Into You (고래)\n",
      "4. My Youth (우리의 계정)\n",
      "5. Rocket\n",
      "6. Countdown (3, 2, 1)\n",
      "7. ANL\n",
      "8. Irreplaceable\n",
      "9. Be There For You (지금처럼) (Renjun, Haechan, Chenle)\n",
      "10. Rainbow (책갈피)\n",
      "1. Hello Future\n",
      "2. Bungee\n",
      "3. Hot Sauce\n",
      "4. Diggity\n",
      "5. Life Is Still Going On (오르골)\n",
      "6. Dive Into You (고래)\n",
      "7. My Youth (우리의 계정)\n",
      "8. Rocket\n",
      "9. Countdown (3, 2, 1)\n",
      "10. ANL\n",
      "11. Irreplaceable\n",
      "12. Be There For You (지금처럼) (Renjun, Haechan, Chenle)\n",
      "13. Rainbow (책갈피)\n",
      "1. Fire Alarm\n",
      "2. Glitch Mode\n",
      "3. Arcade\n",
      "4. It’s Yours\n",
      "5. Teddy Bear\n",
      "6. Replay\n",
      "7. Saturday Drip\n",
      "8. Better Than Gold\n",
      "9. Drive\n",
      "10. Never Goodbye\n",
      "11. Rewind\n",
      "1. Beatbox\n",
      "2. Fire Alarm\n",
      "3. Glitch Mode\n",
      "4. Arcade\n",
      "5. To My First\n",
      "6. It’s Yours\n",
      "7. Teddy Bear\n",
      "8. Sorry, Heart\n",
      "9. Replay\n",
      "10. Saturday Drip\n",
      "11. Better Than Gold\n",
      "12. Drive\n",
      "13. Never Goodbye\n",
      "14. Rewind\n",
      "15. On the Way\n",
      "1. Candy\n",
      "2. Graduation\n",
      "3. Tangerine Love (Favorite)\n",
      "4. Take My Breath\n",
      "5. Moon\n",
      "6. Walk With You\n",
      "1. Best Friend Ever\n",
      "2. Glitch Mode (Japanese ver.)\n",
      "1. Beatbox English Ver\n",
      "1. Broken Melodies\n",
      "1. ISTJ\n",
      "2. Broken Melodies\n",
      "3. Yogurt Shake\n",
      "4. Skateboard\n",
      "5. Blue Wave\n",
      "6. Poison\n",
      "7. SOS\n",
      "8. Pretzel (♡)\n",
      "9. Starry Night\n",
      "10. Like We Just Met\n"
     ]
    }
   ],
   "source": [
    "song_list = []\n",
    "\n",
    "for ol_element in ordered_lists:\n",
    "    item_data = []\n",
    "    for li_element in ol_element.find_all('li'):\n",
    "        text = li_element.get_text(strip=True)\n",
    "        if text:\n",
    "            item_data.append(text)\n",
    "    if item_data:\n",
    "        formatted_list = \"\\n\".join([f\"{i + 1}. {item}\" for i, item in enumerate(item_data)])\n",
    "        song_list.append(formatted_list)\n",
    "\n",
    "for index, item in enumerate(song_list, start=1):\n",
    "    print(item)"
   ]
  },
  {
   "cell_type": "markdown",
   "id": "0ff7b840",
   "metadata": {},
   "source": [
    "Now that I succeed on tidying the data up, I'm going to save it into the csv and json file."
   ]
  },
  {
   "cell_type": "code",
   "execution_count": 47,
   "id": "95e6f93a",
   "metadata": {},
   "outputs": [],
   "source": [
    "with open('nct_dream_discography.csv', 'w', newline='', encoding='utf-8') as csvfile:\n",
    "        csv_writer = csv.writer(csvfile)\n",
    "        for item in song_list:\n",
    "            csv_writer.writerow([item])\n",
    "\n",
    "with open('nct_dream_discography.json', 'w', encoding='utf-8') as jsonfile:\n",
    "        json.dump(song_list, jsonfile, ensure_ascii=False, indent=4)"
   ]
  }
 ],
 "metadata": {
  "kernelspec": {
   "display_name": "Python 3 (ipykernel)",
   "language": "python",
   "name": "python3"
  },
  "language_info": {
   "codemirror_mode": {
    "name": "ipython",
    "version": 3
   },
   "file_extension": ".py",
   "mimetype": "text/x-python",
   "name": "python",
   "nbconvert_exporter": "python",
   "pygments_lexer": "ipython3",
   "version": "3.11.4"
  }
 },
 "nbformat": 4,
 "nbformat_minor": 5
}
